{
  "nbformat": 4,
  "nbformat_minor": 0,
  "metadata": {
    "colab": {
      "provenance": [],
      "authorship_tag": "ABX9TyMYwCyK06CflE+fHPJ+sLfx"
    },
    "kernelspec": {
      "name": "python3",
      "display_name": "Python 3"
    },
    "language_info": {
      "name": "python"
    }
  },
  "cells": [
    {
      "cell_type": "markdown",
      "source": [
        "# Variabelen\n",
        "een variabele is een klein stukje in het geheugen van een computer dat we terugvinden via een vaste naam en een waarde kunnen geven.\n",
        "de waarde kan een tekst zijn of een getal of andere data (bijvoorbeeld afbeeldingen)\n",
        "\n",
        "om een waarde toe te kennen aan de variabele gebruiken we het teken =\n",
        "\n",
        "```\n",
        "voornaam = \"Flupke\"\n",
        "leeftijd = 10\n",
        "adres = '''\n",
        "Kortrijksebaan 2,\n",
        "Holsbeek\n",
        "'''\n",
        "```\n",
        "voor tekst zetten we de waarde altijd tussen \" \", wanneer we tekst op verschillende lijnen hebben, gebruiken we ''' '''\n",
        "\n",
        "in ons programma kunnen we de waarde altijd wijzigen\n"
      ],
      "metadata": {
        "id": "IJ_C1mLlY-La"
      }
    },
    {
      "cell_type": "code",
      "source": [
        "voornaam = \"Flupke\"\n",
        "leeftijd = 10\n",
        "print(voornaam + \" is \" + str(leeftijd) + \" jaar oud\")\n",
        "# een verjaardag!\n",
        "leeftijd = leeftijd + 1\n",
        "print(voornaam + \" is \" + str(leeftijd) + \" jaar oud\")"
      ],
      "metadata": {
        "colab": {
          "base_uri": "https://localhost:8080/"
        },
        "id": "f9pA1N1Wi6d4",
        "outputId": "5ee57a67-b5a0-42b2-8a92-1e95ebeb5718"
      },
      "execution_count": null,
      "outputs": [
        {
          "output_type": "stream",
          "name": "stdout",
          "text": [
            "Flupke is 10 jaar oud\n",
            "Flupke is 11 jaar oud\n"
          ]
        }
      ]
    },
    {
      "cell_type": "code",
      "source": [
        "# let op, grote of kleine letters maken een verschil!\n",
        "a = 2\n",
        "A = 7\n",
        "print(a)\n",
        "print(A)"
      ],
      "metadata": {
        "colab": {
          "base_uri": "https://localhost:8080/"
        },
        "id": "lprU_mdAtF1C",
        "outputId": "a58eb8ef-7eea-42d7-f746-f36bb1d29321"
      },
      "execution_count": null,
      "outputs": [
        {
          "output_type": "stream",
          "name": "stdout",
          "text": [
            "2\n",
            "7\n"
          ]
        }
      ]
    },
    {
      "cell_type": "markdown",
      "source": [
        "# Input en Output\n"
      ],
      "metadata": {
        "id": "BTQP5YnhYGkD"
      }
    },
    {
      "cell_type": "code",
      "source": [
        "print(\"hallo!\")\n",
        "print(\"hoe heet jij?\")\n",
        "naam = input()\n",
        "print(\"dag \" + naam)"
      ],
      "metadata": {
        "colab": {
          "base_uri": "https://localhost:8080/"
        },
        "id": "vRWfXzWGdpE9",
        "outputId": "3374a6b9-5ac1-4883-a169-5b744830ade1"
      },
      "execution_count": null,
      "outputs": [
        {
          "output_type": "stream",
          "name": "stdout",
          "text": [
            "hallo!\n",
            "hoe heet jij?\n",
            "Wim\n",
            "dag Wim\n"
          ]
        }
      ]
    },
    {
      "cell_type": "markdown",
      "source": [
        "# Operators\n",
        "Operators zijn symbolen die ons programma wiskundige berekeningen laten doen.\n",
        "\n",
        "```\n",
        "Voor optellen gebruiken we +\n",
        "voor aftrekken -\n",
        "voor delen /\n",
        "voor vermenigvuldigen *\n",
        "```\n",
        "\n"
      ],
      "metadata": {
        "id": "IF-dv6m9Y31D"
      }
    },
    {
      "cell_type": "code",
      "source": [
        "som = 15 + 39\n",
        "print(som)\n",
        "\n",
        "veelvoud = 3 * 40\n",
        "print(veelvoud)\n",
        "# we gebruiken hier getallen, maar wat zou er gebeuren als je 3 * \"hallo\" zou vermenigvuldigen?"
      ],
      "metadata": {
        "colab": {
          "base_uri": "https://localhost:8080/"
        },
        "id": "nbFGKqgOfGfd",
        "outputId": "e571cbe0-6953-4442-d0a4-8f1ae24ef6da"
      },
      "execution_count": null,
      "outputs": [
        {
          "output_type": "stream",
          "name": "stdout",
          "text": [
            "54\n",
            "120\n"
          ]
        }
      ]
    },
    {
      "cell_type": "markdown",
      "source": [
        "# Conditions\n",
        "\n",
        "bij een condition laten we het programma kijken of iets *waar* of *onwaar* is.\n",
        "\n",
        "```\n",
        "Jerommeke is een jongen van 10 jaar.\n",
        "Jerommeke is ouder dan 9. -> ja, dit is waar\n",
        "Jerommeke is een meisje. -> neen, dit is onwaar\n",
        "```\n",
        "bij computers en programmeertalen gebruiken we *True* of de waarde *1* voor waar, en *False* of *0* voor onwaar.\n",
        "ons programma kan andere code uitvoeren als iets waar is, dan wanneer het onwaar is.\n",
        "\n",
        "\n",
        "```\n",
        "als het mooi weer is:\n",
        "   eten we een ijsje (waar)\n",
        "anders:\n",
        "   kijken we een film (onwaar)\n",
        "```\n",
        "in python gebruiken we voor *als* en *anders* de Engelse vertaling *if* en *else*.\n",
        "\n",
        "\n",
        "\n"
      ],
      "metadata": {
        "id": "MFXGeOM8R5jJ"
      }
    },
    {
      "cell_type": "code",
      "source": [
        "# probeer de waarde voor condition met True, False, 0 of 1. welke output krijg je?\n",
        "condition = 1\n",
        "if condition == True:\n",
        "  print('deze condition is waar')\n",
        "else:\n",
        "  print('deze condition is niet waar')\n",
        "\n",
        "# let op, in een condition gebruiken we dubbele == om te kijken of twee waarden gelijk zijn,\n",
        "# de enkele = operator gebruiken we immers al om waardes in een variabele te stoppen!\n",
        "\n",
        "# we kunnen ook getallen vergelijken met >, <, <=, >= en != (niet gelijk aan)\n",
        "print(5 > 4)"
      ],
      "metadata": {
        "colab": {
          "base_uri": "https://localhost:8080/"
        },
        "id": "0HFnnxxtRL3b",
        "outputId": "15f05405-1aea-44f2-acb3-c794d8e35d79"
      },
      "execution_count": null,
      "outputs": [
        {
          "output_type": "stream",
          "name": "stdout",
          "text": [
            "deze condition is waar\n",
            "True\n"
          ]
        }
      ]
    },
    {
      "cell_type": "markdown",
      "source": [
        "# Logische operatoren\n",
        "Wanneer we twee of meer conditions samen willen evalueren gebruiken we *logical operators*.\n",
        "We gebruiken 'En', 'Of' en 'Niet', of **and, or en not**\n",
        "\n",
        "**and** geeft waar als beide conditions waar zijn, en onwaar in alle andere gevallen\n",
        "\n",
        "**or** geeft waar als minstens 1 van beide conditions waar zijn en geeft onwaar enkel als beide onwaar zijn\n",
        "\n",
        "**not** geeft de omgekeerde waarde van de condition.\n",
        "\n",
        "Joske is een jongen van 11 en woont in Holsbeek.\n",
        "\n",
        "\n",
        "```\n",
        "(Joske is 11 jaar **and** Joske is een meisje) geeft onwaar\n",
        "(Joske is een jongen **or** Joske woont in Leuven) geeft waar\n",
        "**not**(Joske is een meisje) geeft waar\n",
        "\n",
        "```"
      ],
      "metadata": {
        "id": "r7z906EPW25F"
      }
    },
    {
      "cell_type": "markdown",
      "source": [
        "# Lussen of loops\n",
        "Wanneer we stukjes van ons programma willen herhalen, gebruiken we een loop of een lus.\n",
        "Een manier om een lus te maken is **while** gebruiken. 'Zolang als'. Na while gebruiken we een condition om aan te geven wanneer we de lus willen stoppen."
      ],
      "metadata": {
        "id": "bNzS8mWvZOJB"
      }
    },
    {
      "cell_type": "code",
      "source": [
        "i = 0\n",
        "while i<5:\n",
        "    print(i)\n",
        "    i = i+1"
      ],
      "metadata": {
        "id": "hlluRFSLWwNG"
      },
      "execution_count": null,
      "outputs": []
    },
    {
      "cell_type": "markdown",
      "source": [
        "# Guess the number\n",
        "laten we een spelletje coden! het programma bedenkt een willekeurig nummer tussen 0 en 100 en vraagt ons te raden tot het juist is. Is onze gok te hoog, dan zegt het programma: \"te hoog, probeer opnieuw\" is onze gok te laag, dan zegt het programma: \"te laag, probeer opnieuw\".\n",
        "is het juist? verzin dan een coole slogan of text art!\n",
        "\n",
        "```\n",
        "         .-'\"'-.\n",
        "        / #     \\     \n",
        "       : #       :  .-'\"'-.\n",
        "        \\       /  / #     \\\n",
        "         \\     /  : #       :\n",
        "          `'q'`    \\       /\n",
        "            (       \\     /\n",
        "             )       `'p'`\n",
        "            (          )\n",
        "             )        (\n",
        "                       )\n",
        "```\n",
        "\n",
        "\n"
      ],
      "metadata": {
        "id": "PCh5Gz4DaIfL"
      }
    },
    {
      "cell_type": "code",
      "source": [
        "# we gebruiken de help functie 'randint' die een willekeurig geheel getal geeft tussen twee waarden\n",
        "from random import randint\n",
        "nummer = randint(0, 100)\n",
        "\n",
        "print(nummer)\n",
        "# voer het programma enkele keren uit, wat zie je in de output?"
      ],
      "metadata": {
        "colab": {
          "base_uri": "https://localhost:8080/"
        },
        "id": "X856ArxKcGtA",
        "outputId": "ae522c6c-c4ce-425e-ddd7-277d6a34daf2"
      },
      "execution_count": null,
      "outputs": [
        {
          "output_type": "stream",
          "name": "stdout",
          "text": [
            "22\n"
          ]
        }
      ]
    },
    {
      "cell_type": "code",
      "source": [
        "from random import randint\n",
        "nummer = randint(0, 100)\n",
        "gevonden = False\n",
        "\n",
        "while not gevonden:\n",
        "    print(\"raad het nummer:\")\n",
        "    gok = int(input())\n",
        "    print(\"je probeerde \" + str(gok))\n",
        "    if gok == nummer:\n",
        "        print(\"juist!\")\n",
        "        gevonden = True\n",
        "    elif gok < nummer:\n",
        "        print(\"te laag\")\n",
        "    else:\n",
        "        print(\"te hoog\")"
      ],
      "metadata": {
        "colab": {
          "base_uri": "https://localhost:8080/"
        },
        "id": "BNMhNn5br24J",
        "outputId": "d8a3507c-4e01-4037-f8ba-81d400b8fd0f"
      },
      "execution_count": null,
      "outputs": [
        {
          "output_type": "stream",
          "name": "stdout",
          "text": [
            "raad het nummer:\n",
            "50\n",
            "je probeerde 50\n",
            "te hoog\n",
            "raad het nummer:\n",
            "25\n",
            "je probeerde 25\n",
            "te hoog\n",
            "raad het nummer:\n",
            "10\n",
            "je probeerde 10\n",
            "te laag\n",
            "raad het nummer:\n",
            "15\n",
            "je probeerde 15\n",
            "te laag\n",
            "raad het nummer:\n",
            "20\n",
            "je probeerde 20\n",
            "juist!\n"
          ]
        }
      ]
    }
  ]
}